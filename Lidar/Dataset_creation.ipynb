{
 "cells": [
  {
   "cell_type": "markdown",
   "id": "71782b10",
   "metadata": {},
   "source": [
    "# Génération dataset de balises\n",
    "\n",
    "Ce notebook montre comment le dataset de balises standard est généré : Plusieurs captures de balises ont été effectuées à différentes distances entre 30 cm et 390 cm. chaque mesure a été réalisée 10 fois pour obtenir une meilleure précision sur la forme finale des balises standard. Ici, nous avons extrait chaque balise du nuage de point général obtenu et nous avons calculé une moyenne de chaque mesures."
   ]
  },
  {
   "cell_type": "code",
   "execution_count": 1,
   "id": "85e41965",
   "metadata": {},
   "outputs": [],
   "source": [
    "import pandas as pd\n",
    "import matplotlib.pyplot as plt"
   ]
  },
  {
   "cell_type": "markdown",
   "id": "cb7752a8",
   "metadata": {},
   "source": [
    "## extraction des balises des scans lidar"
   ]
  },
  {
   "cell_type": "code",
   "execution_count": 168,
   "id": "8fc0e73d",
   "metadata": {},
   "outputs": [],
   "source": [
    "# Loading dataset\n",
    "\n",
    "pd.options.display.max_rows = 100\n",
    "\n",
    "NB_SAMPLES = 10\n",
    "scan_names = ['data_x=120cm_y=0cm.csv', 'data_x=150cm_y=0cm.csv',\n",
    "              'data_x=180cm_y=0cm.csv', 'data_x=210cm_y=0cm.csv',\n",
    "              'data_x=240cm_y=0cm.csv', 'data_x=270cm_y=0cm.csv',\n",
    "              'data_x=300cm_y=0cm.csv', 'data_x=30cm_y=0cm.csv',\n",
    "              'data_x=330cm_y=0cm.csv', 'data_x=360cm_y=0cm.csv',\n",
    "              'data_x=390cm_y=0cm.csv', 'data_x=60cm_y=0cm.csv',\n",
    "              'data_x=90cm_y=0cm.csv']\n",
    "\n",
    "def extraction_balise (fichier_csv : str,\n",
    "                       zone_balise_gauche : int, zone_balise_droite : int,\n",
    "                       zone_balise_bas = -300, zone_balise_haut = 300,\n",
    "                       nb_sample=0) :\n",
    "    # fichier_csv : Fichier csv de la balise\n",
    "    # zone_balise_gauche : limite gauche de la zone d'intérêt (axe x)\n",
    "    # zone_balise_droite : limite droite de la zone d'intérêt (axe x)\n",
    "    # zone_balise_bas : limite bas de la zone d'intérêt (axe y)\n",
    "    # zone_balise_haut : limite haut de la zone d'intérêt (axe y)\n",
    "    \n",
    "    # Loading data\n",
    "    df  = pd.read_csv(fichier_csv)\n",
    "    \n",
    "    # Sample number\n",
    "    if nb_sample == 0 :\n",
    "        nb_sample = df.iloc[-1,-1] + 1 # last sample number + 1\n",
    "    \n",
    "    # Extracting area\n",
    "    df_extraction = pd.DataFrame(columns=['angle','dist',\n",
    "                                          'x','y',\n",
    "                                          'sample'])\n",
    "    for i in range(df.shape[0]) :\n",
    "        row = df.iloc[i]\n",
    "        \n",
    "        if row['x'] > zone_balise_gauche and row['x'] < zone_balise_droite and row['y'] > zone_balise_bas and row['y'] < zone_balise_haut :\n",
    "            df_extraction.loc[len(df_extraction)] = row\n",
    "            #print(row)\n",
    "            \n",
    "    return df_extraction"
   ]
  },
  {
   "cell_type": "markdown",
   "id": "7c75208d",
   "metadata": {},
   "source": [
    "Extraction sur les mesures de la balise à 120cm"
   ]
  },
  {
   "cell_type": "code",
   "execution_count": 70,
   "id": "ea78d882",
   "metadata": {},
   "outputs": [
    {
     "name": "stdout",
     "output_type": "stream",
     "text": [
      "        angle    dist            x          y  sample\n",
      "0   -4.401065  1217.0  1213.411464 -93.389604     0.0\n",
      "1   -4.048979  1202.0  1198.999873 -84.872280     0.0\n",
      "2   -3.696894  1191.0  1188.521666 -76.793555     0.0\n",
      "3   -3.344809  1191.0  1188.971122 -69.488632     0.0\n",
      "4   -2.992724  1186.0  1184.382501 -61.920038     0.0\n",
      "..        ...     ...          ...        ...     ...\n",
      "115 -1.936468  1183.0  1182.324401 -39.975127     9.0\n",
      "116 -1.584383  1185.0  1184.546961 -32.764279     9.0\n",
      "117 -1.232298  1192.0  1191.724313 -25.635153     9.0\n",
      "118 -0.880213  1197.0  1196.858751 -18.388325     9.0\n",
      "119 -0.528128  1222.0  1221.948088 -11.263709     9.0\n",
      "\n",
      "[120 rows x 5 columns]\n"
     ]
    }
   ],
   "source": [
    "extract_df = extraction_balise (scan_names[0], 1100, 1300)\n",
    "print(extract_df)"
   ]
  },
  {
   "cell_type": "code",
   "execution_count": 165,
   "id": "de57d5d0",
   "metadata": {},
   "outputs": [
    {
     "data": {
      "image/png": "[encoded data removed]",
      "text/plain": [
       "<Figure size 640x480 with 1 Axes>"
      ]
     },
     "metadata": {},
     "output_type": "display_data"
    }
   ],
   "source": [
    "# Ploting data x/y\n",
    "extract_df.plot(x='x', y='y', kind='scatter',marker='.', s=2)\n",
    "plt.show()"
   ]
  },
  {
   "cell_type": "markdown",
   "id": "68a36a05",
   "metadata": {},
   "source": [
    "## Moyenne des mesures de balises"
   ]
  },
  {
   "cell_type": "code",
   "execution_count": 178,
   "id": "3ee835cb",
   "metadata": {},
   "outputs": [],
   "source": [
    "def moy_balise(df_balise_extraite : pd.DataFrame) :\n",
    "    nb_sample = df_balise_extraite.iloc[-1,-1] + 1 # last sample number + 1\n",
    "    \n",
    "    #Rounding y values\n",
    "    df_round = df_balise_extraite.round(0)\n",
    "    #print(df_round)\n",
    "    #count = df_round.groupby(by=[\"y\"]).count()\n",
    "    #print(count)\n",
    "    \n",
    "    #Grouping by  y values and removing outliers\n",
    "    grouped = df_round.groupby(by=[\"y\"])\n",
    "    df_filter = grouped.filter(lambda x: x[\"x\"].count()>=int(nb_sample/2))\n",
    "    #print(df_filter)\n",
    "    \n",
    "    #Calculating mean\n",
    "    group_sum = df_filter.groupby(by=[\"y\"]).mean()\n",
    "    #print(group_sum)\n",
    "    return group_sum"
   ]
  },
  {
   "cell_type": "code",
   "execution_count": 180,
   "id": "ef1db5e1",
   "metadata": {},
   "outputs": [
    {
     "name": "stdout",
     "output_type": "stream",
     "text": [
      "       y  angle         dist            x    sample\n",
      "0  -93.0   -4.0  1210.888889  1206.888889  4.000000\n",
      "1  -84.0   -4.0  1193.333333  1190.333333  5.500000\n",
      "2  -77.0   -4.0  1189.857143  1187.857143  3.285714\n",
      "3  -69.0   -3.0  1186.400000  1184.400000  4.500000\n",
      "4  -62.0   -3.0  1184.400000  1182.400000  4.500000\n",
      "5  -55.0   -3.0  1184.571429  1183.571429  4.142857\n",
      "6  -47.0   -2.0  1183.500000  1182.500000  4.500000\n",
      "7  -40.0   -2.0  1185.100000  1184.100000  4.500000\n",
      "8  -33.0   -2.0  1187.700000  1187.700000  4.500000\n",
      "9  -26.0   -1.0  1190.900000  1190.900000  4.500000\n",
      "10 -18.0   -1.0  1197.400000  1197.400000  4.500000\n",
      "11 -11.0   -1.0  1218.600000  1218.600000  4.500000\n"
     ]
    },
    {
     "data": {
      "image/png": "[encoded data removed]",
      "text/plain": [
       "<Figure size 640x480 with 1 Axes>"
      ]
     },
     "metadata": {},
     "output_type": "display_data"
    }
   ],
   "source": [
    "df_balise_standard = moy_balise(extract_df).reset_index()\n",
    "print(df_balise_standard)\n",
    "\n",
    "# Ploting data x/y\n",
    "df_balise_standard.plot(x='x', y='y', kind='scatter',marker='o', s=5)\n",
    "plt.show()"
   ]
  },
  {
   "cell_type": "markdown",
   "id": "71385289",
   "metadata": {},
   "source": [
    "## Creation du dataset de balises"
   ]
  },
  {
   "cell_type": "code",
   "execution_count": 181,
   "id": "6fb50c69",
   "metadata": {},
   "outputs": [],
   "source": [
    "zone_balise_gauche = [110,140,170,210,230,260,290,20,320,350,380,50,80]\n",
    "zone_balise_droite = [130,160,190,230,250,280,310,40,340,370,400,70,100]"
   ]
  },
  {
   "cell_type": "code",
   "execution_count": null,
   "id": "d9af846f",
   "metadata": {},
   "outputs": [],
   "source": []
  }
 ],
 "metadata": {
  "kernelspec": {
   "display_name": "Python 3 (ipykernel)",
   "language": "python",
   "name": "python3"
  },
  "language_info": {
   "codemirror_mode": {
    "name": "ipython",
    "version": 3
   },
   "file_extension": ".py",
   "mimetype": "text/x-python",
   "name": "python",
   "nbconvert_exporter": "python",
   "pygments_lexer": "ipython3",
   "version": "3.9.12"
  }
 },
 "nbformat": 4,
 "nbformat_minor": 5
}
